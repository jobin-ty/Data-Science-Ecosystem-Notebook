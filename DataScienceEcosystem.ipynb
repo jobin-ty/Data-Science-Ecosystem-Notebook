{
 "cells": [
  {
   "cell_type": "markdown",
   "id": "0c8ee012-5c19-4556-bb9f-e4aef062fd58",
   "metadata": {},
   "source": [
    "# Data Science Tools and Ecosystem"
   ]
  },
  {
   "cell_type": "markdown",
   "id": "31b3a7c0-d527-4e41-a790-c1e6eba807ee",
   "metadata": {},
   "source": [
    "In this notebook, Data Science Tools and Ecosystem are summarized."
   ]
  },
  {
   "cell_type": "markdown",
   "id": "97d11413-c84e-4bfb-9c9c-90383aad92d5",
   "metadata": {},
   "source": [
    "**Objectives:**\n",
    "* List popular languages in data science\n",
    "* List some data science development tools\n",
    "* Demonstrate arithmetic evaluation in python"
   ]
  },
  {
   "cell_type": "markdown",
   "id": "db5ed595-b940-482b-a238-e2041d4e87fa",
   "metadata": {},
   "source": [
    "## Author\n",
    "Jobin Tommy"
   ]
  },
  {
   "cell_type": "markdown",
   "id": "768032d0-2c38-415f-840b-2d495588beb2",
   "metadata": {},
   "source": [
    "Some of the commonly used libraries in data science are:\n",
    "1. Numpy\n",
    "2. panda\n",
    "3. Matplotlib"
   ]
  },
  {
   "cell_type": "markdown",
   "id": "a3803c4a-d9d2-4ee2-b528-f725b29e2216",
   "metadata": {},
   "source": [
    "Some of the popular languages that Data Scientists use are: \n",
    "1. Python\n",
    "2. R\n",
    "3. SQL"
   ]
  },
  {
   "cell_type": "markdown",
   "id": "5a856d8b-ece3-4bac-8972-3720d9c695d6",
   "metadata": {},
   "source": [
    "|Data Science Tools|\n",
    "|------|\n",
    "|Microsoft Visual Studio|\n",
    "|Jupyter IDE|\n",
    "|RStudio|"
   ]
  },
  {
   "cell_type": "markdown",
   "id": "b1793e9a-e23f-4fef-97d9-f5f13dc3d059",
   "metadata": {},
   "source": [
    "### Below are a few examples of evaluating arithmetic expressions in Python"
   ]
  },
  {
   "cell_type": "code",
   "execution_count": 2,
   "id": "f924abcf-0395-4a5f-ac45-1b5b356112ca",
   "metadata": {},
   "outputs": [
    {
     "name": "stdout",
     "output_type": "stream",
     "text": [
      "17\n"
     ]
    }
   ],
   "source": [
    "# This is a simple arithmetic expression to multiply then add two integers\n",
    "print((3*4)+5)"
   ]
  },
  {
   "cell_type": "code",
   "execution_count": 3,
   "id": "ccfda745-1fff-4c30-9386-993cce804b10",
   "metadata": {},
   "outputs": [
    {
     "name": "stdout",
     "output_type": "stream",
     "text": [
      "3.3333333333333335\n"
     ]
    }
   ],
   "source": [
    "# This will convert 200 minutes to hours by dividing by 60.\n",
    "min=200\n",
    "hr=200/60\n",
    "print(hr)"
   ]
  },
  {
   "cell_type": "code",
   "execution_count": null,
   "id": "5d54fa8c-fd48-4dff-869b-497eba81a1a3",
   "metadata": {},
   "outputs": [],
   "source": []
  },
  {
   "cell_type": "code",
   "execution_count": null,
   "id": "80bb022c-89f2-4233-8cf6-724ba1074389",
   "metadata": {},
   "outputs": [],
   "source": []
  }
 ],
 "metadata": {
  "kernelspec": {
   "display_name": "Python 3 (ipykernel)",
   "language": "python",
   "name": "python3"
  },
  "language_info": {
   "codemirror_mode": {
    "name": "ipython",
    "version": 3
   },
   "file_extension": ".py",
   "mimetype": "text/x-python",
   "name": "python",
   "nbconvert_exporter": "python",
   "pygments_lexer": "ipython3",
   "version": "3.12.8"
  }
 },
 "nbformat": 4,
 "nbformat_minor": 5
}
